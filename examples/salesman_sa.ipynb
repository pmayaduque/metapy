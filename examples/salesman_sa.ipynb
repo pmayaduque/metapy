{
 "cells": [
  {
   "cell_type": "code",
   "execution_count": 1,
   "metadata": {},
   "outputs": [],
   "source": [
    "import math\n",
    "\n",
    "def distance(a, b):\n",
    "    \"\"\"Calculates distance between two latitude-longitude coordinates.\"\"\"\n",
    "    R = 3963  # radius of Earth (miles)\n",
    "    lat1, lon1 = math.radians(a[0]), math.radians(a[1])\n",
    "    lat2, lon2 = math.radians(b[0]), math.radians(b[1])\n",
    "    return math.acos(math.sin(lat1) * math.sin(lat2) +\n",
    "                     math.cos(lat1) * math.cos(lat2) * math.cos(lon1 - lon2)) * R\n",
    "\n",
    "cities = {\n",
    "        'New York City': (40.72, 74.00),\n",
    "        'Los Angeles': (34.05, 118.25),\n",
    "        'Chicago': (41.88, 87.63),\n",
    "        'Houston': (29.77, 95.38),\n",
    "        'Phoenix': (33.45, 112.07),\n",
    "        'Philadelphia': (39.95, 75.17),\n",
    "        'San Antonio': (29.53, 98.47),\n",
    "        'Dallas': (32.78, 96.80),\n",
    "        'San Diego': (32.78, 117.15),\n",
    "        'San Jose': (37.30, 121.87),\n",
    "        'Detroit': (42.33, 83.05),\n",
    "        'San Francisco': (37.78, 122.42),\n",
    "        'Jacksonville': (30.32, 81.70),\n",
    "        'Indianapolis': (39.78, 86.15),\n",
    "        'Austin': (30.27, 97.77),\n",
    "        'Columbus': (39.98, 82.98),\n",
    "        'Fort Worth': (32.75, 97.33),\n",
    "        'Charlotte': (35.23, 80.85),\n",
    "        'Memphis': (35.12, 89.97),\n",
    "        'Baltimore': (39.28, 76.62)\n",
    "    }\n",
    "\n",
    "# create a distance matrix\n",
    "distance_matrix = {}\n",
    "for ka, va in cities.items():\n",
    "    distance_matrix[ka] = {}\n",
    "    for kb, vb in cities.items():\n",
    "        if kb == ka:\n",
    "            distance_matrix[ka][kb] = 0.0\n",
    "        else:\n",
    "            distance_matrix[ka][kb] = distance(va, vb)"
   ]
  },
  {
   "cell_type": "code",
   "execution_count": 17,
   "metadata": {},
   "outputs": [],
   "source": [
    "import metapy as mp\n",
    "from metapy.algorithms import SimulatedAnnealing\n",
    "from random import shuffle\n",
    "\n",
    "\n",
    "class AnnealingTSP(SimulatedAnnealing):\n",
    "    def __init__(self, distance_matrix, state=None, init_temperature=None, minimize=True):\n",
    "        self.distance_matrix = distance_matrix\n",
    "        return super().__init__(state=state, init_temperature=init_temperature, minimize=minimize)\n",
    "    \n",
    "    def energy(self, state):\n",
    "        now = state[0]\n",
    "        distance = 0.0\n",
    "        route = (point for point in state[1:])\n",
    "        while True:\n",
    "            try:\n",
    "                next_stop = next(route)\n",
    "                distance += self.distance_matrix[now][next_stop]\n",
    "                now = next_stop\n",
    "            except StopIteration:\n",
    "                break\n",
    "        return distance\n",
    "    \n",
    "    def alter(self, state):\n",
    "        return mp.mutation.swap_mutation(state)\n",
    "\n",
    "state = [i for i in list(cities.keys())]\n",
    "shuffle(state)\n",
    "tsp = AnnealingTSP(distance_matrix, state)\n",
    "res = tsp.optimize(max_iterations=1000)"
   ]
  },
  {
   "cell_type": "code",
   "execution_count": 18,
   "metadata": {},
   "outputs": [
    {
     "data": {
      "image/png": "[encoded data removed]",
      "text/plain": [
       "<matplotlib.figure.Figure at 0x6920f610>"
      ]
     },
     "metadata": {
      "needs_background": "light"
     },
     "output_type": "display_data"
    }
   ],
   "source": [
    "import matplotlib.pyplot as plt\n",
    "import numpy as np\n",
    "%matplotlib inline\n",
    "\n",
    "plt.plot(np.arange(len(res.best_progress)), res.best_progress, label=\"Energies\")\n",
    "plt.legend()\n",
    "plt.show()"
   ]
  },
  {
   "cell_type": "code",
   "execution_count": 19,
   "metadata": {},
   "outputs": [
    {
     "name": "stdout",
     "output_type": "stream",
     "text": [
      "{'energy': 1002, 'alter': 1001, 'state changes': 99}\n"
     ]
    }
   ],
   "source": [
    "print(res.function_calls)"
   ]
  },
  {
   "cell_type": "code",
   "execution_count": null,
   "metadata": {},
   "outputs": [],
   "source": []
  }
 ],
 "metadata": {
  "kernelspec": {
   "display_name": "Python 3",
   "language": "python",
   "name": "python3"
  },
  "language_info": {
   "codemirror_mode": {
    "name": "ipython",
    "version": 3
   },
   "file_extension": ".py",
   "mimetype": "text/x-python",
   "name": "python",
   "nbconvert_exporter": "python",
   "pygments_lexer": "ipython3",
   "version": "3.6.6"
  }
 },
 "nbformat": 4,
 "nbformat_minor": 2
}
