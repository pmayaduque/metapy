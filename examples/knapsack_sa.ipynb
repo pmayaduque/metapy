{
 "cells": [
  {
   "cell_type": "markdown",
   "metadata": {},
   "source": [
    "# Solving the Knapsack Problem using Simulated Annealing\n",
    "\n",
    "This notebook's goal is to show you, how you can use `metapy` in order to solve the Knapsack problem. First, we define the problem properly. The problem is:\n",
    "\n",
    "Given a set of items, each with a weight and a value, determine the number of each item to include in a collection so that the total weight is less than or equal to a given limit and the total value is as large as possible.(Wikipedia)"
   ]
  },
  {
   "cell_type": "code",
   "execution_count": 1,
   "metadata": {},
   "outputs": [
    {
     "name": "stdout",
     "output_type": "stream",
     "text": [
      "The fitness for our candidate is 72\n"
     ]
    }
   ],
   "source": [
    "# 1 stands for: we are including this item \n",
    "candidate = [0, 1, 1, 0, 0, 1, 0, 0, 0, 1, 1, 0, 0, 1, 0, 1, 0, 1, 0, 0]\n",
    "values = [69, 21, 33, 50, 89, 58, 27, 95, 52, 68, 26, 84, 46, 28, 25, 81, 82, 27, 50, 61]\n",
    "weights = [6, 1, 1, 4, 9, 7, 3, 5, 7, 7, 9, 4, 4, 4, 8, 7, 7, 6, 5, 3]\n",
    "\n",
    "\n",
    "def value(candidate):\n",
    "    global values, weights\n",
    "    max_weight = 15\n",
    "    total_weight = 0\n",
    "\n",
    "    fitness = 0\n",
    "    for i, bit in enumerate(candidate):\n",
    "        if bit == 1:\n",
    "            total_weight += weights[i]\n",
    "            fitness += values[i]\n",
    "\n",
    "    # add penalty for total weights, that are above max weight\n",
    "    if total_weight > max_weight:\n",
    "        fitness -= 10 * (total_weight - max_weight)\n",
    "    return fitness\n",
    "\n",
    "print(\"The fitness for our candidate is {}\".format(value(candidate)))"
   ]
  },
  {
   "cell_type": "markdown",
   "metadata": {},
   "source": [
    "Now that we know, how candidates are looking like and how we can measure the fitness of a candidate we already have enough to try the first optimization algorithm: \n",
    "# Simulated Annealing"
   ]
  },
  {
   "cell_type": "code",
   "execution_count": 9,
   "metadata": {},
   "outputs": [],
   "source": [
    "import metapy as mp\n",
    "import numpy as np\n",
    "from metapy.algorithms import SimulatedAnnealing\n",
    "\n",
    "\n",
    "class SimulatedAnnealingKnapsack(SimulatedAnnealing):\n",
    "    def __init__(self, values, weights, state=None, init_temperature=None, minimize=True):\n",
    "        self.values = values\n",
    "        self.weights = weights\n",
    "        return super().__init__(state=state, init_temperature=init_temperature, minimize=minimize)\n",
    "    \n",
    "    def energy(self, state):\n",
    "        return value(state)\n",
    "    \n",
    "    def alter(self, state):\n",
    "        return mp.mutation.bit_flip_mutation(state)\n",
    "\n",
    "sa = SimulatedAnnealingKnapsack(values, weights, state=np.random.randint(0, 2, 20),\n",
    "                                init_temperature=30, minimize=False)\n",
    "res = sa.optimize(max_iterations=5000)"
   ]
  },
  {
   "cell_type": "code",
   "execution_count": 10,
   "metadata": {},
   "outputs": [
    {
     "data": {
      "image/png": "[encoded data removed]",
      "text/plain": [
       "<matplotlib.figure.Figure at 0x692d6930>"
      ]
     },
     "metadata": {
      "needs_background": "light"
     },
     "output_type": "display_data"
    }
   ],
   "source": [
    "import matplotlib.pyplot as plt\n",
    "%matplotlib inline\n",
    "\n",
    "plt.plot(np.arange(len(res.best_progress)), res.best_progress, label=\"Energies\")\n",
    "plt.legend()\n",
    "plt.show()"
   ]
  },
  {
   "cell_type": "code",
   "execution_count": null,
   "metadata": {},
   "outputs": [],
   "source": []
  }
 ],
 "metadata": {
  "kernelspec": {
   "display_name": "Python 3",
   "language": "python",
   "name": "python3"
  },
  "language_info": {
   "codemirror_mode": {
    "name": "ipython",
    "version": 3
   },
   "file_extension": ".py",
   "mimetype": "text/x-python",
   "name": "python",
   "nbconvert_exporter": "python",
   "pygments_lexer": "ipython3",
   "version": "3.6.6"
  }
 },
 "nbformat": 4,
 "nbformat_minor": 2
}
