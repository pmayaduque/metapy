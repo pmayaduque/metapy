{
 "cells": [
  {
   "cell_type": "markdown",
   "metadata": {},
   "source": [
    "# Solving the Knapsack Problem using Genetic Algorithm\n",
    "This notebook's goal is to show you, how you can use `metapy` in order to solve the Knapsack problem. First, we define the problem properly. The problem is:\n",
    "\n",
    "Given a set of items, each with a weight and a value, determine the number of each item to include in a collection so that the total weight is less than or equal to a given limit and the total value is as large as possible.(Wikipedia)"
   ]
  },
  {
   "cell_type": "code",
   "execution_count": 1,
   "metadata": {},
   "outputs": [
    {
     "name": "stdout",
     "output_type": "stream",
     "text": [
      "The fitness for our candidate is 72\n"
     ]
    }
   ],
   "source": [
    "# 1 stands for: we are including this item \n",
    "candidate = [0, 1, 1, 0, 0, 1, 0, 0, 0, 1, 1, 0, 0, 1, 0, 1, 0, 1, 0, 0]\n",
    "values = [69, 21, 33, 50, 89, 58, 27, 95, 52, 68, 26, 84, 46, 28, 25, 81, 82, 27, 50, 61]\n",
    "weights = [6, 1, 1, 4, 9, 7, 3, 5, 7, 7, 9, 4, 4, 4, 8, 7, 7, 6, 5, 3]\n",
    "\n",
    "def value(candidate):\n",
    "    global values, weights\n",
    "\n",
    "    max_weight = 15\n",
    "    total_weight = 0\n",
    "\n",
    "    fitness = 0\n",
    "    for i, bit in enumerate(candidate):\n",
    "        if bit == 1:\n",
    "            total_weight += weights[i]\n",
    "            fitness += values[i]\n",
    "\n",
    "    # add penalty for total weights, that are above max weight\n",
    "    if total_weight > max_weight:\n",
    "        fitness -= 10 * (total_weight - max_weight)\n",
    "    return fitness\n",
    "\n",
    "print(\"The fitness for our candidate is {}\".format(value(candidate)))"
   ]
  },
  {
   "cell_type": "markdown",
   "metadata": {},
   "source": [
    "Now that we know, how candidates are looking like and how we can measure the fitness of a candidate we already have enough to try the first optimization algorithm: \n",
    "# Genetic Algorithm"
   ]
  },
  {
   "cell_type": "code",
   "execution_count": 2,
   "metadata": {},
   "outputs": [],
   "source": [
    "import numpy as np\n",
    "import metapy as mp\n",
    "from metapy.algorithms import GeneticAlgorithm\n",
    "\n",
    "\n",
    "class GeneticKnapsackAlgorithm(GeneticAlgorithm):\n",
    "    def __init__(self, values, weights):\n",
    "        super().__init__(mutation_rate=0.2,\n",
    "                         population_size=15, elitism=0, minimize=False)\n",
    "        \n",
    "        # We initialize the algorithm with a random population\n",
    "        # and we pass over the weights and values of each item\n",
    "        self.population = [np.random.randint(0, 2, 10) for i in range(self.population_size)]\n",
    "        self.values = values\n",
    "        self.weights = weights\n",
    "    \n",
    "    # This is the same fitness function as above\n",
    "    def fitness(self, candidate):\n",
    "        return value(candidate)\n",
    "\n",
    "    # crossover describes, how we combine 2 or more candidates in order to generate a new one\n",
    "    def crossover(self, candidates):\n",
    "        return mp.crossover.uniform_crossover(candidates)\n",
    "    \n",
    "    # mutation brings more variation to the population\n",
    "    def mutation(self, candidate):\n",
    "        return mp.mutation.bit_flip_mutation(candidate)\n",
    "    \n",
    "    # the selection method returns candidates for crossover\n",
    "    # Better candidates should have higher chance to reproduce themselfes\n",
    "    def selection(self, fitness):\n",
    "        return mp.selection.rank_based_selection(self.population, fitness,\n",
    "                                                 self.selection_size, number_of_parents=2,\n",
    "                                                 minimize=False)"
   ]
  },
  {
   "cell_type": "code",
   "execution_count": 3,
   "metadata": {},
   "outputs": [
    {
     "name": "stdout",
     "output_type": "stream",
     "text": [
      "Genetic Algorithm result is [1. 1. 1. 1. 0. 0. 0. 0. 0. 1.] with a fitness of 248.\n"
     ]
    }
   ],
   "source": [
    "ga = GeneticKnapsackAlgorithm(values, weights)\n",
    "res = ga.optimize(max_time=2)\n",
    "print(\"Genetic Algorithm result is {} with a fitness of {}.\".format(res.solution, res.best_progress[-1]))"
   ]
  },
  {
   "cell_type": "code",
   "execution_count": 4,
   "metadata": {},
   "outputs": [
    {
     "data": {
      "image/png": "[encoded data removed]",
      "text/plain": [
       "<Figure size 432x288 with 1 Axes>"
      ]
     },
     "metadata": {},
     "output_type": "display_data"
    }
   ],
   "source": [
    "import matplotlib.pyplot as plt\n",
    "%matplotlib inline\n",
    "\n",
    "plt.plot(np.arange(len(res.best_progress)), res.best_progress, label=\"Best Fitness\")\n",
    "plt.plot(np.arange(len(res.averaged_progress)), res.averaged_progress, label=\"Avg Fitness\")\n",
    "plt.legend()\n",
    "plt.show()"
   ]
  },
  {
   "cell_type": "code",
   "execution_count": 5,
   "metadata": {},
   "outputs": [
    {
     "name": "stdout",
     "output_type": "stream",
     "text": [
      "{'fitness': 78690, 'crossover': 78690, 'mutation': 62977, 'selection': 5246}\n"
     ]
    }
   ],
   "source": [
    "print(res.function_calls)"
   ]
  },
  {
   "cell_type": "code",
   "execution_count": null,
   "metadata": {},
   "outputs": [],
   "source": []
  }
 ],
 "metadata": {
  "kernelspec": {
   "display_name": "Python 3",
   "language": "python",
   "name": "python3"
  },
  "language_info": {
   "codemirror_mode": {
    "name": "ipython",
    "version": 3
   },
   "file_extension": ".py",
   "mimetype": "text/x-python",
   "name": "python",
   "nbconvert_exporter": "python",
   "pygments_lexer": "ipython3",
   "version": "3.6.6"
  }
 },
 "nbformat": 4,
 "nbformat_minor": 2
}
